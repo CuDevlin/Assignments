{
 "cells": [
  {
   "cell_type": "markdown",
   "id": "5bc9be56",
   "metadata": {},
   "source": [
    "## Sentiment Analysis"
   ]
  },
  {
   "cell_type": "markdown",
   "id": "818b3b52",
   "metadata": {},
   "source": [
    "In this exercise we use the IMDb-dataset, which we will use to perform a sentiment analysis. The code below assumes that the data is placed in the same folder as this notebook. We see that the reviews are loaded as a pandas dataframe, and print the beginning of the first few reviews."
   ]
  },
  {
   "cell_type": "code",
   "execution_count": 43,
   "id": "67da3bc0",
   "metadata": {},
   "outputs": [
    {
     "name": "stdout",
     "output_type": "stream",
     "text": [
      "<class 'pandas.core.frame.DataFrame'>\n",
      "                                                   0\n",
      "0  bromwell high is a cartoon comedy . it ran at ...\n",
      "1  story of a man who has unnatural feelings for ...\n",
      "2  homelessness  or houselessness as george carli...\n",
      "3  airport    starts as a brand new luxury    pla...\n",
      "4  brilliant over  acting by lesley ann warren . ...\n"
     ]
    }
   ],
   "source": [
    "import numpy as np\n",
    "import pandas as pd\n",
    "\n",
    "reviews = pd.read_csv('reviews.txt', header=None)\n",
    "labels = pd.read_csv('labels.txt', header=None)\n",
    "Y = (labels=='positive').astype(np.int_)\n",
    "\n",
    "print(type(reviews))\n",
    "print(reviews.head())"
   ]
  },
  {
   "cell_type": "markdown",
   "id": "4982b946",
   "metadata": {},
   "source": [
    "**(a)** Split the reviews and labels in test, train and validation sets. The train and validation sets will be used to train your model and tune hyperparameters, the test set will be saved for testing. Use the `CountVectorizer` from `sklearn.feature_extraction.text` to create a Bag-of-Words representation of the reviews. Only use the 10,000 most frequent words (use the `max_features`-parameter of `CountVectorizer`)."
   ]
  },
  {
   "cell_type": "markdown",
   "id": "ebf07ee9",
   "metadata": {},
   "source": [
    "**(b)** Explore the representation of the reviews. How is a single word represented? How about a whole review?"
   ]
  },
  {
   "cell_type": "markdown",
   "id": "c2638fce",
   "metadata": {},
   "source": [
    "**(c)** Train a neural network with a single hidden layer on the dataset, tuning the relevant hyperparameters to optimize accuracy. "
   ]
  },
  {
   "cell_type": "markdown",
   "id": "1fd327a6",
   "metadata": {},
   "source": [
    "**(d)** Test your sentiment-classifier on the test set."
   ]
  },
  {
   "cell_type": "markdown",
   "id": "fd44ee62",
   "metadata": {},
   "source": [
    "**(e)** Use the classifier to classify a few sentences you write yourselves. "
   ]
  },
  {
   "cell_type": "code",
   "execution_count": 44,
   "id": "8c487da3",
   "metadata": {},
   "outputs": [
    {
     "data": {
      "text/plain": [
       "np.float64(0.5)"
      ]
     },
     "execution_count": 44,
     "metadata": {},
     "output_type": "execute_result"
    }
   ],
   "source": [
    "reviews, Y = reviews[0], Y[0]\n",
    "Y.mean() # check if ratings are balanced (i.e. = 0.5)"
   ]
  },
  {
   "cell_type": "code",
   "execution_count": 45,
   "id": "31cb7577",
   "metadata": {},
   "outputs": [
    {
     "data": {
      "text/plain": [
       "((18062,), (18062,), (3188,), (3188,), (3750,), (3750,))"
      ]
     },
     "execution_count": 45,
     "metadata": {},
     "output_type": "execute_result"
    }
   ],
   "source": [
    "# train - val - test split\n",
    "from sklearn.model_selection import train_test_split\n",
    "X_train, X_test, y_train, y_test = train_test_split(reviews, Y, test_size=0.15, random_state=7)\n",
    "X_train, X_val, y_train, y_val = train_test_split(X_train, y_train, test_size=0.15, random_state=7)\n",
    "\n",
    "# reset indices\n",
    "X_train.reset_index(drop=True, inplace=True)\n",
    "y_train.reset_index(drop=True, inplace=True)\n",
    "X_val.reset_index(drop=True, inplace=True)\n",
    "y_val.reset_index(drop=True, inplace=True)\n",
    "X_test.reset_index(drop=True, inplace=True)\n",
    "y_test.reset_index(drop=True, inplace=True)\n",
    "\n",
    "# dataset cardinalities\n",
    "X_train.shape, y_train.shape, X_val.shape, y_val.shape, X_test.shape, y_test.shape"
   ]
  },
  {
   "cell_type": "code",
   "execution_count": 46,
   "id": "06178284",
   "metadata": {},
   "outputs": [
    {
     "name": "stdout",
     "output_type": "stream",
     "text": [
      "Vocabulary size: 10000\n",
      "Raw text: frank sinatra was far from the ideal actor for westerns . he was a great actor  from here to eternity and the man with the golden arm are a proof of that  but he did not have the physique of a western hero  you identified him as an urban guy . but he tried to do his job well in johnny concho  the fact that the film was a failure at the box office was not his fault . i blame it on two factors a  the story was too unusual  specially in the fact that sinatra behaves more like a villain than as a hero throughout the movie . in a genre where people kind of expected a certain pattern  to break away from it the film has to be very good . b  the story is not convincing  it is hard to believe that a whole town will allow sinatra to do anything he wants just because they are afraid of his brother . also when a man shows him a special holster that will open sideways so he has not to draw the gun you wonder that if that will make him invincible  why all the gunfighters have not adopted it  i think that this film should not have been withdrawn  because any film with sinatra is worth seeing  and in spite of its shortcomings it is still enjoyable  \n",
      "Word vector: [0 0 0 ... 0 0 0]  - length: 10000\n",
      "{'the': np.int64(14), 'that': np.int64(8), 'to': np.int64(7), 'not': np.int64(6), 'he': np.int64(5), 'it': np.int64(5), 'of': np.int64(5), 'was': np.int64(5), 'film': np.int64(4), 'in': np.int64(4), 'is': np.int64(4), 'sinatra': np.int64(4), 'from': np.int64(3), 'have': np.int64(3), 'him': np.int64(3), 'his': np.int64(3), 'will': np.int64(3), 'actor': np.int64(2), 'and': np.int64(2), 'are': np.int64(2), 'as': np.int64(2), 'because': np.int64(2), 'but': np.int64(2), 'do': np.int64(2), 'fact': np.int64(2), 'has': np.int64(2), 'hero': np.int64(2), 'man': np.int64(2), 'story': np.int64(2), 'with': np.int64(2), 'you': np.int64(2), 'adopted': np.int64(1), 'afraid': np.int64(1), 'all': np.int64(1), 'allow': np.int64(1), 'also': np.int64(1), 'an': np.int64(1), 'any': np.int64(1), 'anything': np.int64(1), 'arm': np.int64(1), 'at': np.int64(1), 'away': np.int64(1), 'be': np.int64(1), 'been': np.int64(1), 'behaves': np.int64(1), 'believe': np.int64(1), 'blame': np.int64(1), 'box': np.int64(1), 'break': np.int64(1), 'brother': np.int64(1), 'certain': np.int64(1), 'convincing': np.int64(1), 'did': np.int64(1), 'draw': np.int64(1), 'enjoyable': np.int64(1), 'eternity': np.int64(1), 'expected': np.int64(1), 'factors': np.int64(1), 'failure': np.int64(1), 'far': np.int64(1), 'fault': np.int64(1), 'for': np.int64(1), 'frank': np.int64(1), 'genre': np.int64(1), 'golden': np.int64(1), 'good': np.int64(1), 'great': np.int64(1), 'gun': np.int64(1), 'guy': np.int64(1), 'hard': np.int64(1), 'here': np.int64(1), 'ideal': np.int64(1), 'identified': np.int64(1), 'if': np.int64(1), 'its': np.int64(1), 'job': np.int64(1), 'johnny': np.int64(1), 'just': np.int64(1), 'kind': np.int64(1), 'like': np.int64(1), 'make': np.int64(1), 'more': np.int64(1), 'movie': np.int64(1), 'office': np.int64(1), 'on': np.int64(1), 'open': np.int64(1), 'pattern': np.int64(1), 'people': np.int64(1), 'proof': np.int64(1), 'seeing': np.int64(1), 'shortcomings': np.int64(1), 'should': np.int64(1), 'shows': np.int64(1), 'so': np.int64(1), 'special': np.int64(1), 'specially': np.int64(1), 'spite': np.int64(1), 'still': np.int64(1), 'than': np.int64(1), 'they': np.int64(1), 'think': np.int64(1), 'this': np.int64(1), 'throughout': np.int64(1), 'too': np.int64(1), 'town': np.int64(1), 'tried': np.int64(1), 'two': np.int64(1), 'unusual': np.int64(1), 'urban': np.int64(1), 'very': np.int64(1), 'villain': np.int64(1), 'wants': np.int64(1), 'well': np.int64(1), 'western': np.int64(1), 'westerns': np.int64(1), 'when': np.int64(1), 'where': np.int64(1), 'whole': np.int64(1), 'why': np.int64(1), 'wonder': np.int64(1), 'worth': np.int64(1)}\n"
     ]
    }
   ],
   "source": [
    "# bag-of-words (no sequential information, no information on importance of words, just frequency per text)\n",
    "from sklearn.feature_extraction.text import CountVectorizer\n",
    "\n",
    "# initialize with max 10k words\n",
    "bow = CountVectorizer(max_features=10000)\n",
    "\n",
    "# fit on entire body of text\n",
    "X_train_bow = bow.fit_transform(X_train)\n",
    "X_val_bow = bow.transform(X_val)\n",
    "X_test_bow = bow.transform(X_test)\n",
    "\n",
    "# get vocabulary, should be 10k size\n",
    "vocab = bow.get_feature_names_out()\n",
    "print(\"Vocabulary size:\", len(vocab))\n",
    "\n",
    "# let's look at a single sample, e.g. index 101\n",
    "print(\"Raw text:\", X_train[101]) # raw text\n",
    "print(\"Word vector:\", X_train_bow[101].toarray()[0], \" - length:\", len(X_train_bow[101].toarray()[0])) # word vector\n",
    "\n",
    "# let's match word vector vocabulary and sort by count\n",
    "word_counts = {vocab[i]:c for i, c in enumerate(X_train_bow[101].toarray()[0]) if c > 0}\n",
    "word_counts = dict(sorted(word_counts.items(), key=lambda x: x[1], reverse=True))\n",
    "\n",
    "# let's see which words are the most important in this text\n",
    "print(word_counts)"
   ]
  },
  {
   "cell_type": "markdown",
   "id": "1befc79b",
   "metadata": {},
   "source": [
    "# TF-IDF\n",
    "\n",
    "Term Frequency - Inverse Document Frequency."
   ]
  },
  {
   "cell_type": "code",
   "execution_count": 47,
   "id": "79a5ed11",
   "metadata": {},
   "outputs": [
    {
     "name": "stdout",
     "output_type": "stream",
     "text": [
      "Vocabulary size: 10000\n",
      "Raw text: frank sinatra was far from the ideal actor for westerns . he was a great actor  from here to eternity and the man with the golden arm are a proof of that  but he did not have the physique of a western hero  you identified him as an urban guy . but he tried to do his job well in johnny concho  the fact that the film was a failure at the box office was not his fault . i blame it on two factors a  the story was too unusual  specially in the fact that sinatra behaves more like a villain than as a hero throughout the movie . in a genre where people kind of expected a certain pattern  to break away from it the film has to be very good . b  the story is not convincing  it is hard to believe that a whole town will allow sinatra to do anything he wants just because they are afraid of his brother . also when a man shows him a special holster that will open sideways so he has not to draw the gun you wonder that if that will make him invincible  why all the gunfighters have not adopted it  i think that this film should not have been withdrawn  because any film with sinatra is worth seeing  and in spite of its shortcomings it is still enjoyable  \n",
      "Word vector: [0. 0. 0. ... 0. 0. 0.]  - length: 10000\n",
      "{'sinatra': np.float64(0.4987678344293025), 'hero': np.float64(0.17126042056363347), 'factors': np.float64(0.13856257439499367), 'actor': np.float64(0.13740369855611367), 'pattern': np.float64(0.1365844612908613), 'away film': np.float64(0.13522368308985339), 'eternity': np.float64(0.1331496742083348), 'frank sinatra': np.float64(0.1331496742083348), 'shortcomings': np.float64(0.1331496742083348), 'adopted': np.float64(0.13276037442354144), 'specially': np.float64(0.12924709564819983), 'great actor': np.float64(0.12770469796942116), 'ideal': np.float64(0.12770469796942116), 'fact film': np.float64(0.1234641750019602), 'film': np.float64(0.12246143700129301), 'westerns': np.float64(0.12059596680191775), 'fact': np.float64(0.12028073121506608), 'hard believe': np.float64(0.11902205695921926), 'proof': np.float64(0.11902205695921926), 'think film': np.float64(0.11902205695921926), 'arm': np.float64(0.11883405855153342), 'urban': np.float64(0.1170485521736411), 'spite': np.float64(0.11420030973842997), 'box office': np.float64(0.11291993367330048), 'draw': np.float64(0.11291993367330048), 'johnny': np.float64(0.11184912020481017), 'good story': np.float64(0.11083469209898782), 'golden': np.float64(0.1107115627091675), 'failure': np.float64(0.11058921509852017), 'fault': np.float64(0.10963743231426525), 'worth seeing': np.float64(0.10929229442020916), 'man': np.float64(0.10906042993052559), 'blame': np.float64(0.10624058702877184), 'unusual': np.float64(0.10510674919030558), 'film good': np.float64(0.10483341575716949), 'allow': np.float64(0.1045639052947716), 'afraid': np.float64(0.10253364145801631), 'frank': np.float64(0.10012178725203065), 'western': np.float64(0.09829807532246503), 'gun': np.float64(0.09669133807158437), 'office': np.float64(0.0959926627267181), 'convincing': np.float64(0.09554056729359038), 'villain': np.float64(0.09466700428071144), 'break': np.float64(0.09249845340760135), 'box': np.float64(0.09216743229191073), 'open': np.float64(0.09076620509025711), 'expected': np.float64(0.08909679082152971), 'tried': np.float64(0.08877958721540624), 'certain': np.float64(0.08870109552259114), 'brother': np.float64(0.0859671014489742), 'enjoyable': np.float64(0.08579791964280456), 'story': np.float64(0.08447948471007483), 'town': np.float64(0.0826645468973765), 'wonder': np.float64(0.08171483404479886), 'genre': np.float64(0.08065433625318372), 'wants': np.float64(0.0792853519509051), 'special': np.float64(0.06952376921149707), 'seeing': np.float64(0.06933647361268362), 'shows': np.float64(0.06892510662196308), 'job': np.float64(0.06878526795353715), 'worth': np.float64(0.06715625038921308), 'believe': np.float64(0.06618257478964941), 'guy': np.float64(0.0661460906816677), 'kind': np.float64(0.06530220155744783), 'hard': np.float64(0.06472933880098626), 'away': np.float64(0.06438253106425026), 'far': np.float64(0.06368569820331137), 'did': np.float64(0.05145179455144879), 'think': np.float64(0.0489020796732144), 'make': np.float64(0.046615343259787605), 'people': np.float64(0.04621819609427959), 'great': np.float64(0.046093333444384314), 'good': np.float64(0.03774962774225692), 'just': np.float64(0.035974617506173194), 'like': np.float64(0.033975093914924225), 'movie': np.float64(0.02865943411277678)}\n"
     ]
    }
   ],
   "source": [
    "# tf-idf with n-grams and stopwords\n",
    "from sklearn.feature_extraction.text import TfidfVectorizer\n",
    "\n",
    "# initialize with max 10k words\n",
    "tfidf = TfidfVectorizer(\n",
    "    max_features=10000,\n",
    "    ngram_range=(1, 3),  # bigrams, unigrams, trigrams\n",
    "    min_df=2,            # minimum document frequency (absolute value)\n",
    "    max_df=0.9,          # maximum document frequency (as a fraction)\n",
    "    stop_words='english' # get rid of \"and\", \"to\", \"the\", etc\n",
    ")\n",
    "\n",
    "# fit on entire body of text\n",
    "X_train_tfidf = tfidf.fit_transform(X_train)\n",
    "X_val_tfidf = tfidf.transform(X_val)\n",
    "X_test_tfidf = tfidf.transform(X_test)\n",
    "\n",
    "# get vocabulary, should be 10k size\n",
    "vocab = tfidf.get_feature_names_out()\n",
    "print(\"Vocabulary size:\", len(vocab))\n",
    "\n",
    "# let's look at a single sample, e.g. index 101\n",
    "print(\"Raw text:\", X_train[101]) # raw text\n",
    "print(\"Word vector:\", X_train_tfidf[101].toarray()[0], \" - length:\", len(X_train_tfidf[101].toarray()[0])) # word vector\n",
    "\n",
    "# let's match word vector vocabulary and sort by tfidf score\n",
    "word_scores = {vocab[i]:score for i, score in enumerate(X_train_tfidf[101].toarray()[0]) if score > 0}\n",
    "word_scores = dict(sorted(word_scores.items(), key=lambda x: x[1], reverse=True))\n",
    "\n",
    "# let's see which words are the most important in this text based on tf-idf scores\n",
    "print(word_scores)"
   ]
  },
  {
   "cell_type": "code",
   "execution_count": 48,
   "id": "efb71496",
   "metadata": {},
   "outputs": [
    {
     "name": "stdout",
     "output_type": "stream",
     "text": [
      "Training Bag-of-Words model...\n",
      "Epoch 1/5\n",
      "\u001b[1m142/142\u001b[0m \u001b[32m━━━━━━━━━━━━━━━━━━━━\u001b[0m\u001b[37m\u001b[0m \u001b[1m2s\u001b[0m 10ms/step - accuracy: 0.7804 - loss: 0.4779 - val_accuracy: 0.8902 - val_loss: 0.2872\n",
      "Epoch 2/5\n",
      "\u001b[1m142/142\u001b[0m \u001b[32m━━━━━━━━━━━━━━━━━━━━\u001b[0m\u001b[37m\u001b[0m \u001b[1m1s\u001b[0m 9ms/step - accuracy: 0.9291 - loss: 0.2052 - val_accuracy: 0.8695 - val_loss: 0.3156\n",
      "Epoch 3/5\n",
      "\u001b[1m142/142\u001b[0m \u001b[32m━━━━━━━━━━━━━━━━━━━━\u001b[0m\u001b[37m\u001b[0m \u001b[1m1s\u001b[0m 9ms/step - accuracy: 0.9521 - loss: 0.1439 - val_accuracy: 0.8752 - val_loss: 0.3105\n",
      "Epoch 4/5\n",
      "\u001b[1m142/142\u001b[0m \u001b[32m━━━━━━━━━━━━━━━━━━━━\u001b[0m\u001b[37m\u001b[0m \u001b[1m1s\u001b[0m 10ms/step - accuracy: 0.9725 - loss: 0.0979 - val_accuracy: 0.8789 - val_loss: 0.3235\n",
      "Epoch 5/5\n",
      "\u001b[1m142/142\u001b[0m \u001b[32m━━━━━━━━━━━━━━━━━━━━\u001b[0m\u001b[37m\u001b[0m \u001b[1m1s\u001b[0m 10ms/step - accuracy: 0.9818 - loss: 0.0719 - val_accuracy: 0.8761 - val_loss: 0.3460\n",
      "\n",
      "Training TF-IDF model...\n",
      "Epoch 1/5\n",
      "\u001b[1m142/142\u001b[0m \u001b[32m━━━━━━━━━━━━━━━━━━━━\u001b[0m\u001b[37m\u001b[0m \u001b[1m2s\u001b[0m 9ms/step - accuracy: 0.7446 - loss: 0.6106 - val_accuracy: 0.8698 - val_loss: 0.3672\n",
      "Epoch 2/5\n",
      "\u001b[1m142/142\u001b[0m \u001b[32m━━━━━━━━━━━━━━━━━━━━\u001b[0m\u001b[37m\u001b[0m \u001b[1m1s\u001b[0m 7ms/step - accuracy: 0.9044 - loss: 0.3006 - val_accuracy: 0.8896 - val_loss: 0.2834\n",
      "Epoch 3/5\n",
      "\u001b[1m142/142\u001b[0m \u001b[32m━━━━━━━━━━━━━━━━━━━━\u001b[0m\u001b[37m\u001b[0m \u001b[1m1s\u001b[0m 6ms/step - accuracy: 0.9314 - loss: 0.2103 - val_accuracy: 0.8912 - val_loss: 0.2702\n",
      "Epoch 4/5\n",
      "\u001b[1m142/142\u001b[0m \u001b[32m━━━━━━━━━━━━━━━━━━━━\u001b[0m\u001b[37m\u001b[0m \u001b[1m1s\u001b[0m 7ms/step - accuracy: 0.9489 - loss: 0.1590 - val_accuracy: 0.8883 - val_loss: 0.2742\n",
      "Epoch 5/5\n",
      "\u001b[1m142/142\u001b[0m \u001b[32m━━━━━━━━━━━━━━━━━━━━\u001b[0m\u001b[37m\u001b[0m \u001b[1m1s\u001b[0m 7ms/step - accuracy: 0.9628 - loss: 0.1277 - val_accuracy: 0.8839 - val_loss: 0.2876\n",
      "\n",
      "Final Results:\n",
      "BoW Model - Validation Accuracy: 0.8761\n",
      "TF-IDF Model - Validation Accuracy: 0.8839\n"
     ]
    },
    {
     "data": {
      "image/png": "[encoded data removed]",
      "text/plain": [
       "<Figure size 1200x400 with 2 Axes>"
      ]
     },
     "metadata": {},
     "output_type": "display_data"
    }
   ],
   "source": [
    "# train simple neural network\n",
    "import tensorflow as tf\n",
    "from tensorflow.keras.models import Sequential\n",
    "from tensorflow.keras.layers import Input, Dense, Dropout\n",
    "from tensorflow.keras.optimizers import AdamW\n",
    "\n",
    "# model parameters\n",
    "input_dim = 10000 # from max_features in vectorizers\n",
    "hidden_dim = 64   # parameters in layer 1\n",
    "output_dim = 1    # parameters in layer 2, output layer, binary classification\n",
    "\n",
    "# training parameters\n",
    "epochs = 5\n",
    "batch_size = 128\n",
    "\n",
    "# function to create model (same architecture for both)\n",
    "def create_model():\n",
    "    model = Sequential([\n",
    "        Input(shape=(input_dim,)),\n",
    "        Dense(hidden_dim, activation='relu'),\n",
    "        Dropout(0.25),  # mitigate overfitting\n",
    "        Dense(output_dim, activation='sigmoid')\n",
    "    ])\n",
    "    model.compile(\n",
    "        optimizer=AdamW(learning_rate=0.001),\n",
    "        loss='binary_crossentropy',\n",
    "        metrics=['accuracy']\n",
    "    )\n",
    "    return model\n",
    "\n",
    "# train BoW model\n",
    "print(\"Training Bag-of-Words model...\")\n",
    "bow_model = create_model()\n",
    "bow_history = bow_model.fit(\n",
    "    X_train_bow.toarray(),\n",
    "    y_train,\n",
    "    epochs=epochs,\n",
    "    batch_size=batch_size,\n",
    "    validation_data=(X_val_bow, y_val),\n",
    "    verbose=1\n",
    ")\n",
    "\n",
    "# train TF-IDF model\n",
    "print(\"\\nTraining TF-IDF model...\")\n",
    "tfidf_model = create_model()\n",
    "tfidf_history = tfidf_model.fit(\n",
    "    X_train_tfidf.toarray(),\n",
    "    y_train,\n",
    "    epochs=epochs,\n",
    "    batch_size=batch_size,\n",
    "    validation_data=(X_val_tfidf, y_val),\n",
    "    verbose=1\n",
    ")\n",
    "\n",
    "# compare final validation accuracies\n",
    "print(\"\\nFinal Results:\")\n",
    "print(f\"BoW Model - Validation Accuracy: {bow_history.history['val_accuracy'][-1]:.4f}\")\n",
    "print(f\"TF-IDF Model - Validation Accuracy: {tfidf_history.history['val_accuracy'][-1]:.4f}\")\n",
    "\n",
    "# optional: plot training history\n",
    "import matplotlib.pyplot as plt\n",
    "\n",
    "plt.figure(figsize=(12, 4))\n",
    "\n",
    "# plot accuracy\n",
    "plt.subplot(1, 2, 1)\n",
    "plt.plot(bow_history.history['accuracy'], label='BoW Training')\n",
    "plt.plot(bow_history.history['val_accuracy'], label='BoW Validation')\n",
    "plt.plot(tfidf_history.history['accuracy'], label='TF-IDF Training')\n",
    "plt.plot(tfidf_history.history['val_accuracy'], label='TF-IDF Validation')\n",
    "plt.title('Model Accuracy')\n",
    "plt.ylabel('Accuracy')\n",
    "plt.xlabel('Epoch')\n",
    "plt.legend()\n",
    "\n",
    "# plot loss\n",
    "plt.subplot(1, 2, 2)\n",
    "plt.plot(bow_history.history['loss'], label='BoW Training')\n",
    "plt.plot(bow_history.history['val_loss'], label='BoW Validation')\n",
    "plt.plot(tfidf_history.history['loss'], label='TF-IDF Training')\n",
    "plt.plot(tfidf_history.history['val_loss'], label='TF-IDF Validation')\n",
    "plt.title('Model Loss')\n",
    "plt.ylabel('Loss')\n",
    "plt.xlabel('Epoch')\n",
    "plt.legend()\n",
    "\n",
    "plt.tight_layout()\n",
    "plt.show()"
   ]
  },
  {
   "cell_type": "markdown",
   "id": "36b8a61a",
   "metadata": {},
   "source": [
    "### From here we can try to improve upon our neural network and try to better improve the accuracy\n",
    "\n",
    "Here we are only using the BoW (Bag of words).\n",
    "\n",
    "As based on the above model. BoW was performing better."
   ]
  },
  {
   "cell_type": "code",
   "execution_count": 51,
   "id": "b36444e3",
   "metadata": {},
   "outputs": [
    {
     "name": "stdout",
     "output_type": "stream",
     "text": [
      "Epoch 1/10\n",
      "\u001b[1m142/142\u001b[0m \u001b[32m━━━━━━━━━━━━━━━━━━━━\u001b[0m\u001b[37m\u001b[0m \u001b[1m2s\u001b[0m 8ms/step - accuracy: 0.7698 - loss: 0.4881 - val_accuracy: 0.8811 - val_loss: 0.2878\n",
      "Epoch 2/10\n",
      "\u001b[1m142/142\u001b[0m \u001b[32m━━━━━━━━━━━━━━━━━━━━\u001b[0m\u001b[37m\u001b[0m \u001b[1m1s\u001b[0m 8ms/step - accuracy: 0.9249 - loss: 0.2144 - val_accuracy: 0.8755 - val_loss: 0.3060\n",
      "Epoch 3/10\n",
      "\u001b[1m142/142\u001b[0m \u001b[32m━━━━━━━━━━━━━━━━━━━━\u001b[0m\u001b[37m\u001b[0m \u001b[1m1s\u001b[0m 7ms/step - accuracy: 0.9499 - loss: 0.1521 - val_accuracy: 0.8833 - val_loss: 0.2959\n",
      "Epoch 4/10\n",
      "\u001b[1m142/142\u001b[0m \u001b[32m━━━━━━━━━━━━━━━━━━━━\u001b[0m\u001b[37m\u001b[0m \u001b[1m1s\u001b[0m 7ms/step - accuracy: 0.9692 - loss: 0.1014 - val_accuracy: 0.8701 - val_loss: 0.3419\n",
      "Epoch 5/10\n",
      "\u001b[1m142/142\u001b[0m \u001b[32m━━━━━━━━━━━━━━━━━━━━\u001b[0m\u001b[37m\u001b[0m \u001b[1m1s\u001b[0m 7ms/step - accuracy: 0.9792 - loss: 0.0761 - val_accuracy: 0.8767 - val_loss: 0.3485\n",
      "Epoch 6/10\n",
      "\u001b[1m142/142\u001b[0m \u001b[32m━━━━━━━━━━━━━━━━━━━━\u001b[0m\u001b[37m\u001b[0m \u001b[1m1s\u001b[0m 7ms/step - accuracy: 0.9887 - loss: 0.0508 - val_accuracy: 0.8711 - val_loss: 0.3900\n",
      "Epoch 7/10\n",
      "\u001b[1m142/142\u001b[0m \u001b[32m━━━━━━━━━━━━━━━━━━━━\u001b[0m\u001b[37m\u001b[0m \u001b[1m1s\u001b[0m 7ms/step - accuracy: 0.9922 - loss: 0.0404 - val_accuracy: 0.8730 - val_loss: 0.4491\n",
      "Epoch 8/10\n",
      "\u001b[1m142/142\u001b[0m \u001b[32m━━━━━━━━━━━━━━━━━━━━\u001b[0m\u001b[37m\u001b[0m \u001b[1m1s\u001b[0m 7ms/step - accuracy: 0.9948 - loss: 0.0309 - val_accuracy: 0.8745 - val_loss: 0.4420\n",
      "Epoch 9/10\n",
      "\u001b[1m142/142\u001b[0m \u001b[32m━━━━━━━━━━━━━━━━━━━━\u001b[0m\u001b[37m\u001b[0m \u001b[1m1s\u001b[0m 7ms/step - accuracy: 0.9968 - loss: 0.0206 - val_accuracy: 0.8745 - val_loss: 0.4813\n",
      "Epoch 10/10\n",
      "\u001b[1m142/142\u001b[0m \u001b[32m━━━━━━━━━━━━━━━━━━━━\u001b[0m\u001b[37m\u001b[0m \u001b[1m1s\u001b[0m 8ms/step - accuracy: 0.9982 - loss: 0.0153 - val_accuracy: 0.8752 - val_loss: 0.4957\n",
      "Test Accuracy: 0.8819\n"
     ]
    }
   ],
   "source": [
    "from tensorflow.keras.models import Sequential\n",
    "from tensorflow.keras.layers import Input, Dense, Dropout\n",
    "from tensorflow.keras.optimizers import Adam\n",
    "\n",
    "# Define the neural network\n",
    "def create_model(hidden_dim=64, dropout_rate=0.3, learning_rate=0.001):\n",
    "    model = Sequential([\n",
    "        Input(shape=(10000,)),\n",
    "        Dense(hidden_dim, activation='relu'),\n",
    "        Dropout(dropout_rate),\n",
    "        Dense(1, activation='sigmoid')\n",
    "    ])\n",
    "    model.compile(\n",
    "        optimizer=Adam(learning_rate=learning_rate),\n",
    "        loss='binary_crossentropy',\n",
    "        metrics=['accuracy']\n",
    "    )\n",
    "    return model\n",
    "\n",
    "# Set hyperparameters\n",
    "hidden_dim = 64\n",
    "dropout_rate = 0.3\n",
    "learning_rate = 0.001\n",
    "epochs = 10\n",
    "batch_size = 128\n",
    "\n",
    "# Train the model\n",
    "model = create_model(hidden_dim, dropout_rate, learning_rate)\n",
    "history = model.fit(\n",
    "    X_train_bow.toarray(), y_train,\n",
    "    validation_data=(X_val_bow.toarray(), y_val),\n",
    "    epochs=epochs,\n",
    "    batch_size=batch_size,\n",
    "    verbose=1\n",
    ")\n",
    "\n",
    "# Evaluate the model on the test set\n",
    "test_loss, test_accuracy = model.evaluate(X_test_bow.toarray(), y_test, verbose=0)\n",
    "print(f\"Test Accuracy: {test_accuracy:.4f}\")\n"
   ]
  },
  {
   "cell_type": "markdown",
   "id": "651f51ac",
   "metadata": {},
   "source": [
    "## Characteristics of the Network:\n",
    "#### Input Layer:\n",
    "\n",
    "The input layer receives a Bag-of-Words (BoW) representation of the text.\n",
    "BoW is a fixed-size vector (of size 10,000 in this case), where each feature corresponds to the frequency or presence of a specific word in the text.\n",
    "#### Hidden Layer:\n",
    "\n",
    "The network includes one hidden layer with a specified number of neurons (hidden_dim=64 in this case).\n",
    "This layer uses the ReLU (Rectified Linear Unit) activation function, which helps the network learn complex patterns by introducing non-linearity.\n",
    "#### Dropout:\n",
    "\n",
    "A Dropout layer is added after the hidden layer to reduce overfitting by randomly deactivating neurons during training.\n",
    "#### Output Layer:\n",
    "\n",
    "The final layer is a single neuron with a sigmoid activation function.\n",
    "The sigmoid function outputs a value between 0 and 1, suitable for binary classification tasks (e.g., \"positive\" vs. \"negative\" sentiment).\n",
    "#### Compilation:\n",
    "\n",
    "The network is compiled with the binary cross-entropy loss function, which is standard for binary classification.\n",
    "It uses the Adam optimizer, a widely-used adaptive optimization algorithm.\n"
   ]
  },
  {
   "cell_type": "markdown",
   "id": "65180ff7",
   "metadata": {},
   "source": [
    "### Lets try with our own sentences now"
   ]
  },
  {
   "cell_type": "code",
   "execution_count": 62,
   "id": "d7715da0",
   "metadata": {},
   "outputs": [
    {
     "name": "stdout",
     "output_type": "stream",
     "text": [
      "\u001b[1m1/1\u001b[0m \u001b[32m━━━━━━━━━━━━━━━━━━━━\u001b[0m\u001b[37m\u001b[0m \u001b[1m0s\u001b[0m 20ms/step\n",
      "Sentence: 'I absolutely loved the movie, it was fantastic!'\n",
      "Predicted Sentiment: Positive (0.8209)\n",
      "\n",
      "Sentence: 'The plot was so exciting i wanted to leave early and never see it again'\n",
      "Predicted Sentiment: Positive (0.5176)\n",
      "\n",
      "Sentence: 'Great acting, but the story was mediocre at best.'\n",
      "Predicted Sentiment: Negative (0.3350)\n",
      "\n",
      "Sentence: 'Terrible movie, I would not recommend it to anyone.'\n",
      "Predicted Sentiment: Negative (0.1155)\n",
      "\n",
      "Sentence: 'An absolute masterpiece, one of the best films I've ever seen.'\n",
      "Predicted Sentiment: Positive (0.8900)\n",
      "\n",
      "Sentence: 'Overall, the movie was good, but i felt it could have been far more exiting.'\n",
      "Predicted Sentiment: Positive (0.5317)\n",
      "\n"
     ]
    }
   ],
   "source": [
    "# Classify custom sentences\n",
    "custom_sentences = [\n",
    "    \"I absolutely loved the movie, it was fantastic!\",\n",
    "    \"The plot was so exciting i wanted to leave early and never see it again\",\n",
    "    \"Great acting, but the story was mediocre at best.\",\n",
    "    \"Terrible movie, I would not recommend it to anyone.\",\n",
    "    \"An absolute masterpiece, one of the best films I've ever seen.\",\n",
    "    \"Overall, the movie was good, but i felt it could have been far more exiting.\"\n",
    "]\n",
    "\n",
    "# Transform custom sentences to Bag-of-Words\n",
    "custom_bow = bow.transform(custom_sentences)\n",
    "predictions = model.predict(custom_bow.toarray())\n",
    "\n",
    "# Display predictions\n",
    "for sentence, pred in zip(custom_sentences, predictions):\n",
    "    sentiment = \"Positive\" if pred > 0.5 else \"Negative\"\n",
    "    print(f\"Sentence: '{sentence}'\\nPredicted Sentiment: {sentiment} ({pred[0]:.4f})\\n\")"
   ]
  },
  {
   "cell_type": "markdown",
   "id": "99f9d13f",
   "metadata": {},
   "source": [
    "#### Why This Type of Neural Network?\n",
    "Suitability for Structured Input:\n",
    "\n",
    "Dense neural networks are ideal when the input is a fixed-length vector (e.g., the Bag-of-Words representation of text).\n",
    "\n",
    "Simple Binary Classification:\n",
    "\n",
    "With just one hidden layer, this network is relatively simple and well-suited for a binary sentiment analysis task.\n",
    "\n",
    "Text Features as Input:\n",
    "\n",
    "The Bag-of-Words model produces numerical features, which work well with dense layers. No sequential or temporal information (like word order) is considered here."
   ]
  },
  {
   "cell_type": "markdown",
   "id": "f081b1c8",
   "metadata": {},
   "source": [
    "## Overall\n",
    "\n",
    "We can see that the final model is able to predict with a good level of accuracy the sentiment in new sentences given.\n",
    "\n",
    "It could be made more complex but for the purpose of this assignment it fits the purpose required, which would appear to be to gauge the sentiment from reviews for shows/movies.\n",
    "\n",
    "It does this well, given reviews can be very mixed and even have words that may make it appear a positive review but in reality is sarcasm"
   ]
  }
 ],
 "metadata": {
  "kernelspec": {
   "display_name": "Python 3 (ipykernel)",
   "language": "python",
   "name": "python3"
  },
  "language_info": {
   "codemirror_mode": {
    "name": "ipython",
    "version": 3
   },
   "file_extension": ".py",
   "mimetype": "text/x-python",
   "name": "python",
   "nbconvert_exporter": "python",
   "pygments_lexer": "ipython3",
   "version": "3.9.12"
  }
 },
 "nbformat": 4,
 "nbformat_minor": 5
}
